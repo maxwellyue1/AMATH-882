{
 "cells": [
  {
   "cell_type": "markdown",
   "metadata": {},
   "source": [
    "(a)"
   ]
  },
  {
   "cell_type": "code",
   "execution_count": 1,
   "metadata": {},
   "outputs": [],
   "source": [
    "import numpy as np\n",
    "import matplotlib.pyplot as plt\n",
    "from scipy.integrate import odeint"
   ]
  },
  {
   "cell_type": "code",
   "execution_count": 2,
   "metadata": {},
   "outputs": [],
   "source": [
    "#assign parameter values\n",
    "\n",
    "k1=200\n",
    "k2=1\n",
    "k3=1\n",
    "km1=1\n",
    "km2=1\n",
    "km3=1 \n",
    "k5=0.05\n",
    "km5=0.005\n",
    "k4=1\n",
    "km4=1\n",
    "KM1=1\n",
    "KM2=1\n",
    "cheR=1\n",
    "L=20"
   ]
  },
  {
   "cell_type": "code",
   "execution_count": 3,
   "metadata": {},
   "outputs": [],
   "source": [
    "#set time_grid for simulation\n",
    "times=np.linspace(0, 500, 10000) #generate time-grid list"
   ]
  },
  {
   "cell_type": "code",
   "execution_count": 4,
   "metadata": {},
   "outputs": [],
   "source": [
    "#assign initial condition species vector S=[Am AmL A AL B BP]\n",
    "#these values were determined by running a previous simulation to steady\n",
    "#state with L=20.\n",
    "Sinit=[0.0360,    1.5593,    0.0595 ,   0.3504 ,   0.7356 ,   0.2644]"
   ]
  },
  {
   "cell_type": "code",
   "execution_count": 5,
   "metadata": {},
   "outputs": [],
   "source": [
    "#declare right-hand-side for original model\n",
    "def dSdt_original(S,t, Llocal):\n",
    "    dS=np.zeros(6) #generate a list to store derivatives\n",
    "    \n",
    "    #assign state variables\n",
    "    Am=S[0]\n",
    "    AmL=S[1]\n",
    "    A=S[2]\n",
    "    AL=S[3]\n",
    "    B=S[4]\n",
    "    BP=S[5]\n",
    "    \n",
    "    # Llocal=L\n",
    "    # #set up time-varying ligan profile\n",
    "    # if (t>10):\n",
    "    #     Llocal=60\n",
    "    # if (t>30):\n",
    "    #     Llocal=100\n",
    "\n",
    "    \n",
    "    dS[0]=km1*cheR - (k1*BP*Am)/(KM1 + Am) - k3*Am*Llocal + km3*AmL\n",
    "    dS[1]=km2*cheR - (k2*BP*AmL)/(KM2 + AmL) + k3*Am*Llocal - km3*AmL\n",
    "    dS[2]=-km1*cheR + (k1*BP*Am)/(KM1 + Am) - k4*A*Llocal + km4*AL\n",
    "    dS[3]=-km2*cheR + (k2*BP*AmL)/(KM2 + AmL) + k4*A*Llocal - km4*AL\n",
    "    dS[4]=-(k5*Am*B) +  (km5*BP)\n",
    "    dS[5]=(k5*Am*B) -  (km5*BP)\n",
    "    return dS"
   ]
  },
  {
   "cell_type": "code",
   "execution_count": 6,
   "metadata": {},
   "outputs": [],
   "source": [
    "Am_ss_values = []\n",
    "L_values = np.linspace(20, 100, num=20)\n",
    "for l in L_values: \n",
    "    S = odeint(dSdt_original, Sinit, times, args=(l,))\n",
    "    Am_ss = S[-1,0]\n",
    "    Am_ss_values.append(Am_ss)\n"
   ]
  },
  {
   "cell_type": "code",
   "execution_count": 7,
   "metadata": {},
   "outputs": [
    {
     "data": {
      "text/plain": [
       "array([ 20.        ,  24.21052632,  28.42105263,  32.63157895,\n",
       "        36.84210526,  41.05263158,  45.26315789,  49.47368421,\n",
       "        53.68421053,  57.89473684,  62.10526316,  66.31578947,\n",
       "        70.52631579,  74.73684211,  78.94736842,  83.15789474,\n",
       "        87.36842105,  91.57894737,  95.78947368, 100.        ])"
      ]
     },
     "execution_count": 7,
     "metadata": {},
     "output_type": "execute_result"
    }
   ],
   "source": [
    "L_values"
   ]
  },
  {
   "cell_type": "code",
   "execution_count": 8,
   "metadata": {},
   "outputs": [
    {
     "data": {
      "text/plain": [
       "[0.03599006898803705,\n",
       " 0.035928642102830956,\n",
       " 0.03587347165620548,\n",
       " 0.03582365747516537,\n",
       " 0.03577846470116807,\n",
       " 0.03573728449892799,\n",
       " 0.03569960962667123,\n",
       " 0.03566501464579888,\n",
       " 0.03563313961311052,\n",
       " 0.03560367823449938,\n",
       " 0.035576367966427755,\n",
       " 0.03555098369486021,\n",
       " 0.035527328990123556,\n",
       " 0.03550523470022974,\n",
       " 0.03548455203129499,\n",
       " 0.03546515050418972,\n",
       " 0.03544691554878578,\n",
       " 0.035429745533467005,\n",
       " 0.035413550214637664,\n",
       " 0.03539824919088159]"
      ]
     },
     "execution_count": 8,
     "metadata": {},
     "output_type": "execute_result"
    }
   ],
   "source": [
    "Am_ss_values"
   ]
  },
  {
   "cell_type": "code",
   "execution_count": 9,
   "metadata": {},
   "outputs": [
    {
     "data": {
      "text/plain": [
       "(0.01, 0.04)"
      ]
     },
     "execution_count": 9,
     "metadata": {},
     "output_type": "execute_result"
    },
    {
     "data": {
      "image/png": "[encoded data removed]",
      "text/plain": [
       "<Figure size 640x480 with 1 Axes>"
      ]
     },
     "metadata": {},
     "output_type": "display_data"
    }
   ],
   "source": [
    "plt.plot(L_values, Am_ss_values)\n",
    "plt.title(\"Dose-response curve for [Am]\")\n",
    "plt.xlabel(\"[L]\")\n",
    "plt.ylabel(\"$[Am]^{ss}$\")\n",
    "plt.ylim(0.01, 0.04)"
   ]
  },
  {
   "cell_type": "markdown",
   "metadata": {},
   "source": [
    "(b)"
   ]
  },
  {
   "cell_type": "code",
   "execution_count": 10,
   "metadata": {},
   "outputs": [],
   "source": [
    "#assign parameter values\n",
    "\n",
    "k1=200\n",
    "k2=1\n",
    "k3=1\n",
    "\n",
    "km3=1 \n",
    "k5=0.05\n",
    "km5=0.005\n",
    "k4=1\n",
    "km4=1\n",
    "KM1=1\n",
    "KM2=1\n",
    "cheR=1\n",
    "# L=20\n",
    "\n",
    "km1=10\n",
    "km2=10\n",
    "kMm1=1\n",
    "kMm2=1"
   ]
  },
  {
   "cell_type": "code",
   "execution_count": 11,
   "metadata": {},
   "outputs": [],
   "source": [
    "#set time_grid for simulation\n",
    "times=np.linspace(0, 500, 10000) #generate time-grid list"
   ]
  },
  {
   "cell_type": "code",
   "execution_count": 12,
   "metadata": {},
   "outputs": [],
   "source": [
    "#assign initial condition species vector S=[Am AmL A AL B BP]\n",
    "#these values were determined by running a previous simulation to steady\n",
    "#state with L=20.\n",
    "Sinit=[0.0360,    1.5593,    0.0595 ,   0.3504 ,   0.7356 ,   0.2644]"
   ]
  },
  {
   "cell_type": "code",
   "execution_count": 13,
   "metadata": {},
   "outputs": [],
   "source": [
    "#declare right-hand-side for original model\n",
    "def dSdt_b(S,t, Llocal):\n",
    "    dS=np.zeros(6) #generate a list to store derivatives\n",
    "    \n",
    "    #assign state variables\n",
    "    Am=S[0]\n",
    "    AmL=S[1]\n",
    "    A=S[2]\n",
    "    AL=S[3]\n",
    "    B=S[4]\n",
    "    BP=S[5]\n",
    "    \n",
    "    # Llocal=L\n",
    "    # #set up time-varying ligan profile\n",
    "    # if (t>10):\n",
    "    #     Llocal=60\n",
    "    # if (t>30):\n",
    "    #     Llocal=100\n",
    "\n",
    "    \n",
    "    dS[0]=km1*cheR*A/(kMm1+A) - (k1*BP*Am)/(KM1 + Am) - k3*Am*Llocal + km3*AmL\n",
    "    dS[1]=km2*cheR*AL/(kMm2+AL) - (k2*BP*AmL)/(KM2 + AmL) + k3*Am*Llocal - km3*AmL\n",
    "    dS[2]=-km1*cheR*A/(kMm1+A) + (k1*BP*Am)/(KM1 + Am) - k4*A*Llocal + km4*AL\n",
    "    dS[3]=-km2*cheR*AL/(kMm2+AL) + (k2*BP*AmL)/(KM2 + AmL) + k4*A*Llocal - km4*AL\n",
    "    dS[4]=-(k5*Am*B) +  (km5*BP)\n",
    "    dS[5]=(k5*Am*B) -  (km5*BP)\n",
    "    return dS"
   ]
  },
  {
   "cell_type": "code",
   "execution_count": 14,
   "metadata": {},
   "outputs": [],
   "source": [
    "Am_ss_values_b = []\n",
    "for l in L_values: \n",
    "    S = odeint(dSdt_b, Sinit, times, args=(l,))\n",
    "    Am_ss = S[-1,0]\n",
    "    Am_ss_values_b.append(Am_ss)\n"
   ]
  },
  {
   "cell_type": "code",
   "execution_count": 15,
   "metadata": {},
   "outputs": [
    {
     "data": {
      "text/plain": [
       "(0.01, 0.04)"
      ]
     },
     "execution_count": 15,
     "metadata": {},
     "output_type": "execute_result"
    },
    {
     "data": {
      "image/png": "[encoded data removed]",
      "text/plain": [
       "<Figure size 640x480 with 1 Axes>"
      ]
     },
     "metadata": {},
     "output_type": "display_data"
    }
   ],
   "source": [
    "plt.plot(L_values, Am_ss_values_b)\n",
    "plt.title(\"Dose-response curve for [Am], modified model\")\n",
    "plt.xlabel(\"[L]\")\n",
    "plt.ylabel(\"$[Am]^{ss}$\")\n",
    "plt.ylim(0.01, 0.04)"
   ]
  },
  {
   "cell_type": "markdown",
   "metadata": {},
   "source": [
    "(c)"
   ]
  },
  {
   "cell_type": "code",
   "execution_count": 16,
   "metadata": {},
   "outputs": [],
   "source": [
    "#assign parameter values\n",
    "\n",
    "k1=200\n",
    "k2=1\n",
    "k3=1\n",
    "\n",
    "km3=1 \n",
    "k5=0.05\n",
    "km5=0.005\n",
    "k4=1\n",
    "km4=1\n",
    "KM1=1\n",
    "KM2=1\n",
    "cheR=1\n",
    "# L=20\n",
    "\n",
    "km1=10\n",
    "km2=10\n",
    "kMm1=1\n",
    "kMm2=1"
   ]
  },
  {
   "cell_type": "code",
   "execution_count": 17,
   "metadata": {},
   "outputs": [],
   "source": [
    "#set time_grid for simulation\n",
    "times=np.linspace(0, 5000, 100000) #generate time-grid list"
   ]
  },
  {
   "cell_type": "code",
   "execution_count": 18,
   "metadata": {},
   "outputs": [],
   "source": [
    "#assign initial condition species vector S=[Am AmL A AL B BP]\n",
    "#these values were determined by running a previous simulation to steady\n",
    "#state with L=20.\n",
    "Sinit_c=[0.0360,    1.5593,    0.0595 ,   0.3504 , 0.0360,    1.5593,   0.7356 ,   0.2644]"
   ]
  },
  {
   "cell_type": "code",
   "execution_count": 19,
   "metadata": {},
   "outputs": [],
   "source": [
    "#declare right-hand-side for original model\n",
    "def dSdt_c(S,t, Llocal):\n",
    "    dS=np.zeros(8) #generate a list to store derivatives\n",
    "    \n",
    "    #assign state variables\n",
    "    Am=S[0]\n",
    "    AmL=S[1]\n",
    "    A=S[2]\n",
    "    AL=S[3]\n",
    "\n",
    "    Amm=S[4]\n",
    "    AmmL=S[5]\n",
    "\n",
    "    B=S[6]\n",
    "    BP=S[7]\n",
    "\n",
    "    \n",
    "    # Llocal=L\n",
    "    # #set up time-varying ligan profile\n",
    "    # if (t>10):\n",
    "    #     Llocal=60\n",
    "    # if (t>30):\n",
    "    #     Llocal=100\n",
    "\n",
    "    \n",
    "    dS[0]=km1*cheR*A/(kMm1+A) - (k1*BP*Am)/(KM1 + Am) - k3*Am*Llocal + km3*AmL - km1*cheR*Am/(kMm1+Am) + (k1*BP*Amm)/(KM1 + Amm)\n",
    "    dS[1]=km2*cheR*AL/(kMm2+AL) - (k2*BP*AmL)/(KM2 + AmL) + k3*Am*Llocal - km3*AmL - km2*cheR*AmL/(kMm2+AmL) + (k2*BP*AmmL)/(KM2 + AmmL)\n",
    "    dS[2]=-km1*cheR*A/(kMm1+A) + (k1*BP*Am)/(KM1 + Am) - k4*A*Llocal + km4*AL\n",
    "    dS[3]=-km2*cheR*AL/(kMm2+AL) + (k2*BP*AmL)/(KM2 + AmL) + k4*A*Llocal - km4*AL\n",
    "\n",
    "    dS[4]=km1*cheR*Am/(kMm1+Am) - (k1*BP*Amm)/(KM1 + Amm) - k3*Amm*Llocal + km3*AmmL\n",
    "    dS[5]=km2*cheR*AmL/(kMm2+AmL) - (k2*BP*AmmL)/(KM2 + AmmL) + k3*Amm*Llocal - km3*AmmL\n",
    "\n",
    "    dS[6]=-(k5*Amm*B) +  (km5*BP)\n",
    "    dS[7]=(k5*Amm*B) -  (km5*BP)\n",
    "    return dS"
   ]
  },
  {
   "cell_type": "code",
   "execution_count": 20,
   "metadata": {},
   "outputs": [],
   "source": [
    "Amm_ss_values_c = []\n",
    "for l in L_values: \n",
    "    S = odeint(dSdt_c, Sinit_c, times, args=(l,))\n",
    "    Amm_ss = S[-1,4]\n",
    "    Amm_ss_values_c.append(Amm_ss)\n"
   ]
  },
  {
   "cell_type": "code",
   "execution_count": 21,
   "metadata": {},
   "outputs": [
    {
     "data": {
      "text/plain": [
       "array([ 20.        ,  24.21052632,  28.42105263,  32.63157895,\n",
       "        36.84210526,  41.05263158,  45.26315789,  49.47368421,\n",
       "        53.68421053,  57.89473684,  62.10526316,  66.31578947,\n",
       "        70.52631579,  74.73684211,  78.94736842,  83.15789474,\n",
       "        87.36842105,  91.57894737,  95.78947368, 100.        ])"
      ]
     },
     "execution_count": 21,
     "metadata": {},
     "output_type": "execute_result"
    }
   ],
   "source": [
    "L_values"
   ]
  },
  {
   "cell_type": "code",
   "execution_count": 22,
   "metadata": {},
   "outputs": [
    {
     "data": {
      "text/plain": [
       "[0.04291233769452394,\n",
       " 0.04152808901537382,\n",
       " 0.04021157780299315,\n",
       " 0.038958361084888996,\n",
       " 0.03776437200039181,\n",
       " 0.03662601556112448,\n",
       " 0.03554007708678107,\n",
       " 0.03450363001358564,\n",
       " 0.03351397242336383,\n",
       " 0.03256858438874754,\n",
       " 0.0316651015656491,\n",
       " 0.03080129747182058,\n",
       " 0.029975071673423854,\n",
       " 0.029184439774656377,\n",
       " 0.028427531217657728,\n",
       " 0.027702574040652333,\n",
       " 0.027007898248565195,\n",
       " 0.0263419269262145,\n",
       " 0.02570317203009231,\n",
       " 0.02509022960879862]"
      ]
     },
     "execution_count": 22,
     "metadata": {},
     "output_type": "execute_result"
    }
   ],
   "source": [
    "Amm_ss_values_c"
   ]
  },
  {
   "cell_type": "code",
   "execution_count": 23,
   "metadata": {},
   "outputs": [
    {
     "data": {
      "text/plain": [
       "-0.54315256823428"
      ]
     },
     "execution_count": 23,
     "metadata": {},
     "output_type": "execute_result"
    }
   ],
   "source": [
    "(Am_ss_values_b[-1]-Am_ss_values_b[0]) / Am_ss_values_b[0]"
   ]
  },
  {
   "cell_type": "code",
   "execution_count": 24,
   "metadata": {},
   "outputs": [
    {
     "data": {
      "text/plain": [
       "-0.415314313859895"
      ]
     },
     "execution_count": 24,
     "metadata": {},
     "output_type": "execute_result"
    }
   ],
   "source": [
    "(Amm_ss_values_c[-1]-Amm_ss_values_c[0]) / Amm_ss_values_c[0]"
   ]
  },
  {
   "cell_type": "code",
   "execution_count": 25,
   "metadata": {},
   "outputs": [
    {
     "data": {
      "text/plain": [
       "(0.01, 0.05)"
      ]
     },
     "execution_count": 25,
     "metadata": {},
     "output_type": "execute_result"
    },
    {
     "data": {
      "image/png": "[encoded data removed]",
      "text/plain": [
       "<Figure size 640x480 with 1 Axes>"
      ]
     },
     "metadata": {},
     "output_type": "display_data"
    }
   ],
   "source": [
    "plt.plot(L_values, Amm_ss_values_c)\n",
    "plt.title(\"Dose-response curve for [Amm], enhanced model\")\n",
    "plt.xlabel(\"[L]\")\n",
    "plt.ylabel(\"$[Amm]^{ss}$\")\n",
    "plt.ylim(0.01, 0.05)\n",
    "# plt.ylim(0.01, 0.04)"
   ]
  },
  {
   "cell_type": "code",
   "execution_count": null,
   "metadata": {},
   "outputs": [],
   "source": []
  }
 ],
 "metadata": {
  "kernelspec": {
   "display_name": "base",
   "language": "python",
   "name": "python3"
  },
  "language_info": {
   "codemirror_mode": {
    "name": "ipython",
    "version": 3
   },
   "file_extension": ".py",
   "mimetype": "text/x-python",
   "name": "python",
   "nbconvert_exporter": "python",
   "pygments_lexer": "ipython3",
   "version": "3.10.9"
  }
 },
 "nbformat": 4,
 "nbformat_minor": 2
}
