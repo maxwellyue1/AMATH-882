{
 "cells": [
  {
   "cell_type": "code",
   "execution_count": 5,
   "metadata": {},
   "outputs": [],
   "source": [
    "import numpy as np\n",
    "import matplotlib.pyplot as plt\n",
    "from scipy.integrate import odeint\n",
    "from scipy.optimize import minimize"
   ]
  },
  {
   "cell_type": "code",
   "execution_count": 1,
   "metadata": {},
   "outputs": [],
   "source": [
    "obs_times=(10, 20, 100)\n",
    "\n",
    "obs_s1=(7.1, 9.3, 12.7)\n",
    "var_s1=(1.9, 3.5, 5.2)\n",
    "\n",
    "obs_s2=(0.3, 0.4, 0.5)\n",
    "var_s2=(0.1, 0.2, 0.2)\n"
   ]
  },
  {
   "cell_type": "code",
   "execution_count": 2,
   "metadata": {},
   "outputs": [],
   "source": [
    "def dynamics(x, t, k0, Vm1, k2, KM1):\n",
    "       dx=[0,0] #generate a list to store derivatives\n",
    "       \n",
    "       S1=x[0]\n",
    "       S2=x[1]\n",
    "       \n",
    "       V0=k0\n",
    "       V1=Vm1*S1/(KM1*(10+S2)+S1) \n",
    "       V2=k2*S2\n",
    "       \n",
    "       dx[0]= V0-V1\n",
    "       dx[1]= V1-V2\n",
    "\n",
    "       return dx"
   ]
  },
  {
   "cell_type": "code",
   "execution_count": 3,
   "metadata": {},
   "outputs": [],
   "source": [
    "def calc_SSE(p):\n",
    "    \n",
    "    times=np.linspace(0,101,101) #generate time-grid list\n",
    "    x0=[0,0] #specify initial condition\n",
    "\n",
    "    x=odeint(dynamics, x0, times, args=tuple(p)) #run simulation\n",
    "    \n",
    "    SSE=0\n",
    "    for i in range(3):\n",
    "        SSE=SSE+(obs_s1[i] - x[obs_times[i], 0])**2/var_s1[i]\n",
    "        SSE=SSE+(obs_s2[i] - x[obs_times[i], 1])**2/var_s2[i]\n",
    "    \n",
    "    return SSE"
   ]
  },
  {
   "cell_type": "code",
   "execution_count": 6,
   "metadata": {},
   "outputs": [
    {
     "name": "stdout",
     "output_type": "stream",
     "text": [
      "Optimization terminated successfully.\n",
      "         Current function value: 0.049244\n",
      "         Iterations: 313\n",
      "         Function evaluations: 593\n",
      "[1.47785782 2.48404858 3.28331285 0.82851842]\n"
     ]
    }
   ],
   "source": [
    "initial_guess=[1,1,1,1]    \n",
    "res = minimize(calc_SSE, initial_guess, method='nelder-mead',\n",
    "               options={'xatol': 1e-10, 'disp': True, 'maxiter': 5000})\n",
    "    \n",
    "print(res.x)"
   ]
  },
  {
   "cell_type": "code",
   "execution_count": 7,
   "metadata": {},
   "outputs": [],
   "source": [
    "p=res.x"
   ]
  },
  {
   "cell_type": "markdown",
   "metadata": {},
   "source": [
    "PLotting fit "
   ]
  },
  {
   "cell_type": "code",
   "execution_count": 8,
   "metadata": {},
   "outputs": [
    {
     "data": {
      "text/plain": [
       "Text(0.5, 0, 'time')"
      ]
     },
     "execution_count": 8,
     "metadata": {},
     "output_type": "execute_result"
    },
    {
     "data": {
      "image/png": "[encoded data removed]",
      "text/plain": [
       "<Figure size 640x480 with 2 Axes>"
      ]
     },
     "metadata": {},
     "output_type": "display_data"
    }
   ],
   "source": [
    "times = np.linspace(0, 101, 101)  # generate time-grid list\n",
    "x0 = [0, 0]  # specify initial condition\n",
    "\n",
    "\n",
    "x = odeint(dynamics, x0, times, args=tuple(p))  # run simulation\n",
    "\n",
    "fig, (ax1, ax2) = plt.subplots(2, 1)\n",
    "\n",
    "ax1.plot(times, x[:, 0], label=\"[S1]\", linewidth=2)\n",
    "ax2.plot(times, x[:, 1], label=\"[S2]\", linewidth=2)\n",
    "\n",
    "ax1.errorbar(obs_times, obs_s1, yerr=var_s1, marker='o', linestyle='none')\n",
    "ax2.errorbar(obs_times, obs_s2, yerr=var_s2, marker='o', linestyle='none')\n",
    "ax1.legend()\n",
    "ax1.set_ylabel(\"concentration\")\n",
    "ax1.set_xlabel(\"time\")\n",
    "ax2.legend()\n",
    "ax2.set_ylabel(\"concentration\")\n",
    "ax2.set_xlabel(\"time\")"
   ]
  },
  {
   "cell_type": "markdown",
   "metadata": {},
   "source": [
    "Sensitivities"
   ]
  },
  {
   "cell_type": "code",
   "execution_count": 14,
   "metadata": {},
   "outputs": [],
   "source": [
    "nom_pars = res.x\n",
    "delta = 0.01"
   ]
  },
  {
   "cell_type": "code",
   "execution_count": 15,
   "metadata": {},
   "outputs": [],
   "source": [
    "x_nom = odeint(dynamics, x0, times, args=tuple(nom_pars))\n",
    "sens = np.zeros((6, 4))\n",
    "for i in range(4): # parameters\n",
    "\n",
    "    #forward perturbation\n",
    "    pars_local = nom_pars.copy()\n",
    "    pars_local[i] = pars_local[i]*(1+delta)\n",
    "    x_pert_f = odeint(dynamics, x0, times, args=tuple(pars_local))\n",
    "    \n",
    "    #backward perturbation\n",
    "    pars_local = nom_pars.copy()\n",
    "    pars_local[i] = pars_local[i]*(1-delta)\n",
    "    x_pert_r = odeint(dynamics, x0, times, args=tuple(pars_local))\n",
    "\n",
    "    for j in range(3): # observed time points\n",
    "        for k in range(2): # observed species\n",
    "            # sens[2*j+k, i] = 0.5*(x_pert_f[obs_times[j], k] -\n",
    "            #               x_pert_r[obs_times[j], k])/(delta*x_nom[obs_times[j], k])\n",
    "            sens[2*j+k, i] = 0.5*(x_pert_f[obs_times[j], k] -\n",
    "                          x_pert_r[obs_times[j], k])/(delta*x_nom[obs_times[j], k])\n"
   ]
  },
  {
   "cell_type": "code",
   "execution_count": 16,
   "metadata": {},
   "outputs": [
    {
     "name": "stdout",
     "output_type": "stream",
     "text": [
      "[[ 1.30363458 -0.76493795 -0.01233663  0.47397574]\n",
      " [ 0.70595033  0.57360217 -0.97977959 -0.29039968]\n",
      " [ 1.58600782 -1.19608345 -0.02105957  0.63130644]\n",
      " [ 0.7386436   0.42768014 -0.98938003 -0.17423603]\n",
      " [ 2.44266136 -2.37724922 -0.04161238  0.97561793]\n",
      " [ 0.97497353  0.03438368 -0.99951433 -0.00984388]]\n"
     ]
    }
   ],
   "source": [
    "print(sens)"
   ]
  },
  {
   "cell_type": "code",
   "execution_count": 17,
   "metadata": {},
   "outputs": [
    {
     "name": "stdout",
     "output_type": "stream",
     "text": [
      "3.4894142849760215\n",
      "2.8600999186094738\n",
      "1.7147002859566978\n",
      "1.29993009335052\n"
     ]
    }
   ],
   "source": [
    "S1=np.sqrt(np.square(sens[:,0]).sum())\n",
    "S2=np.sqrt(np.square(sens[:,1]).sum())\n",
    "S3=np.sqrt(np.square(sens[:,2]).sum())\n",
    "S4=np.sqrt(np.square(sens[:,3]).sum())\n",
    "\n",
    "S_norm=np.array([S1, S2, S3, S4])\n",
    "\n",
    "print(S1)\n",
    "print(S2)\n",
    "print(S3)\n",
    "print(S4)"
   ]
  },
  {
   "cell_type": "code",
   "execution_count": 44,
   "metadata": {},
   "outputs": [
    {
     "name": "stdout",
     "output_type": "stream",
     "text": [
      "[0. 1. 2. 3.]\n",
      "[3.48941428 1.7302615  0.48652905 0.10455975]\n"
     ]
    }
   ],
   "source": [
    "###iterateed projection process to determine identifiability via residuals####\n",
    "\n",
    "number_of_parameters=4\n",
    "\n",
    "Z=sens\n",
    "\n",
    "S_norm=np.array([S1, S2, S3])\n",
    "max_index0=np.argmax(S_norm) #identify the index of the most identifiable\n",
    "max0=np.max(S_norm)\n",
    "\n",
    "\n",
    "\n",
    "X = np.empty(shape=[6,0])\n",
    "\n",
    "indices_in_order_of_most_identifiable=np.zeros(number_of_parameters)\n",
    "ident_scores_in_order_of_most_identifiable=np.zeros(number_of_parameters)\n",
    "\n",
    "indices_in_order_of_most_identifiable[0]=max_index0\n",
    "ident_scores_in_order_of_most_identifiable[0]=max0\n",
    "\n",
    "previous_max_index=max_index0\n",
    "\n",
    "for m in np.arange(1, number_of_parameters):\n",
    "    \n",
    "    X = np.append(X, np.expand_dims(Z[:,previous_max_index], axis=1), axis=1)\n",
    "\n",
    "    A1=np.matmul(X, np.linalg.inv(np.matmul(X.transpose(),X)))\n",
    "    \n",
    "    A2=np.matmul(np.transpose(X), Z)\n",
    "\n",
    "    R=Z-np.matmul(A1, A2)\n",
    "\n",
    "    norms = np.linalg.norm(R, axis=0)\n",
    "    \n",
    "    max_index= np.argmax(norms)\n",
    "    norm_max=np.max(norms)\n",
    "    \n",
    "    indices_in_order_of_most_identifiable[m]=max_index\n",
    "    ident_scores_in_order_of_most_identifiable[m]=norm_max\n",
    "\n",
    "    previous_max_index=max_index\n",
    "\n",
    "\n",
    "print(indices_in_order_of_most_identifiable)\n",
    "print(ident_scores_in_order_of_most_identifiable)"
   ]
  }
 ],
 "metadata": {
  "kernelspec": {
   "display_name": "base",
   "language": "python",
   "name": "python3"
  },
  "language_info": {
   "codemirror_mode": {
    "name": "ipython",
    "version": 3
   },
   "file_extension": ".py",
   "mimetype": "text/x-python",
   "name": "python",
   "nbconvert_exporter": "python",
   "pygments_lexer": "ipython3",
   "version": "3.10.9"
  }
 },
 "nbformat": 4,
 "nbformat_minor": 2
}
