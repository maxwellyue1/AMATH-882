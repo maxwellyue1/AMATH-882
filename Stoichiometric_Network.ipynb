{
 "cells": [
  {
   "cell_type": "code",
   "execution_count": 1,
   "metadata": {},
   "outputs": [],
   "source": [
    "import numpy as np\n",
    "import pandas as pd"
   ]
  },
  {
   "cell_type": "code",
   "execution_count": 23,
   "metadata": {},
   "outputs": [
    {
     "name": "stdout",
     "output_type": "stream",
     "text": [
      "[[ 1.  0.  0.  0.  0.  0.  0. -1.  0.  0.  0.  0.  1. -1.  0.  0.  0.]\n",
      " [ 0.  1.  0.  0.  0.  0.  0.  0. -1.  0.  0.  1. -1.  0.  0.  0. -1.]\n",
      " [ 0.  0.  0.  0.  0.  0.  0.  0.  0.  0.  1. -1.  0.  0.  0.  0.  0.]\n",
      " [ 0.  0.  0.  0.  0.  0.  0.  0.  0.  1. -1.  0.  0.  0.  0.  0.  0.]\n",
      " [ 0.  0.  0.  0.  0.  0.  0.  0.  1. -1.  0.  0.  0.  0.  0.  0.  1.]\n",
      " [ 0.  0.  0.  0.  0.  0.  0.  1. -1.  0.  0.  0.  0.  0.  0.  0.  0.]\n",
      " [ 0.  0.  1.  0.  0.  0.  0.  0.  0.  0.  0.  0.  0. -1. -1.  0.  0.]\n",
      " [ 0.  0.  0.  0. -1.  0.  0.  0.  0.  0.  0.  0.  0.  1.  0.  0.  0.]\n",
      " [ 0.  0.  0.  0.  0. -1.  0.  0.  0.  0.  0.  0.  0.  1.  1.  0. -1.]\n",
      " [ 0.  0.  0.  1.  0.  0.  0.  0.  0.  0.  0.  0.  0.  0.  1. -1.  0.]\n",
      " [ 0.  0.  0.  0.  0.  0. -1.  0.  0.  0.  0.  0.  0.  0. -1.  1.  1.]]\n"
     ]
    }
   ],
   "source": [
    "matrix = np.zeros((11, 17))\n",
    "matrix[0, 0] = 1\n",
    "matrix[1, 1] = 1\n",
    "matrix[6, 2] = 1\n",
    "matrix[9, 3] = 1\n",
    "matrix[7, 4] = -1\n",
    "matrix[8, 5] = -1\n",
    "matrix[10, 6] = -1\n",
    "\n",
    "matrix[0, 7] = -1\n",
    "matrix[5, 7] = 1\n",
    "\n",
    "matrix[1, 8] = -1\n",
    "matrix[4, 8] = 1\n",
    "matrix[5, 8] = -1\n",
    "\n",
    "matrix[3, 9] = 1\n",
    "matrix[4, 9] = -1\n",
    "\n",
    "matrix[2, 10] = 1\n",
    "matrix[3, 10] = -1\n",
    "\n",
    "matrix[1, 11] = 1\n",
    "matrix[2, 11] = -1\n",
    "\n",
    "matrix[0, 12] = 1\n",
    "matrix[1, 12] = -1\n",
    "\n",
    "matrix[0, 13] = -1\n",
    "matrix[6, 13] = -1\n",
    "matrix[7, 13] = 1\n",
    "matrix[8, 13] = 1\n",
    "\n",
    "matrix[6, 14] = -1\n",
    "matrix[8, 14] = 1\n",
    "matrix[9, 14] = 1\n",
    "matrix[10, 14] = -1\n",
    "\n",
    "matrix[9, 15] = -1\n",
    "matrix[10, 15] = 1\n",
    "\n",
    "matrix[1, 16] = -1\n",
    "matrix[4, 16] = 1\n",
    "matrix[8, 16] = -1\n",
    "matrix[10, 16] = 1\n",
    "\n",
    "print(matrix)"
   ]
  },
  {
   "cell_type": "code",
   "execution_count": 24,
   "metadata": {},
   "outputs": [
    {
     "name": "stdout",
     "output_type": "stream",
     "text": [
      "There is no left nullspace.\n"
     ]
    }
   ],
   "source": [
    "from scipy.linalg import null_space\n",
    "\n",
    "# Compute the left null space of the stoichiometry matrix\n",
    "left_null_space = null_space(matrix.T)\n",
    "\n",
    "# Check if the left null space is non-empty\n",
    "if left_null_space.size == 0:\n",
    "    print(\"There is no left nullspace.\")\n",
    "else:\n",
    "    print(\"There is a left nullspace.\")\n",
    "    print(\"Left nullspace basis vectors:\")\n",
    "    print(left_null_space)"
   ]
  },
  {
   "cell_type": "markdown",
   "metadata": {},
   "source": [
    "(b). "
   ]
  },
  {
   "cell_type": "code",
   "execution_count": 25,
   "metadata": {},
   "outputs": [
    {
     "name": "stdout",
     "output_type": "stream",
     "text": [
      "Kernel (null space) basis vectors:\n",
      "[[ 0.03017449 -0.41078298  0.57426224 -0.06669468 -0.0593047  -0.14467631]\n",
      " [-0.13957806  0.52875403 -0.02067784 -0.25749231  0.02975776  0.12411059]\n",
      " [-0.13998412  0.00434896  0.25203937  0.22411791  0.20247693  0.46293115]\n",
      " [-0.06818883 -0.09978943 -0.02998729 -0.36738989  0.44167385 -0.28050743]\n",
      " [-0.19620024 -0.11404556  0.2373946  -0.3056562  -0.03209489  0.30465104]\n",
      " [-0.45251144  0.09008786  0.3471825   0.22172803  0.18839506  0.04707142]\n",
      " [ 0.24433849 -0.18552832 -0.12513043 -0.36500001  0.45575572  0.1353523 ]\n",
      " [ 0.08679667  0.23201661  0.3161898  -0.0185308   0.00254794 -0.32521676]\n",
      " [ 0.08679667  0.23201661  0.3161898  -0.0185308   0.00254794 -0.32521676]\n",
      " [ 0.39932399  0.14627771  0.22104667 -0.01614092  0.01662981  0.09064297]\n",
      " [ 0.39932399  0.14627771  0.22104667 -0.01614092  0.01662981  0.09064297]\n",
      " [ 0.39932399  0.14627771  0.22104667 -0.01614092  0.01662981  0.09064297]\n",
      " [-0.13957806  0.52875403 -0.02067784 -0.25749231  0.02975776  0.12411059]\n",
      " [-0.19620024 -0.11404556  0.2373946  -0.3056562  -0.03209489  0.30465104]\n",
      " [ 0.05621611  0.11839452  0.01464477  0.52977411  0.23457181  0.15828011]\n",
      " [-0.01197272  0.0186051  -0.01534252  0.16238422  0.67624567 -0.12222732]\n",
      " [ 0.31252732 -0.08573889 -0.09514314  0.00238988  0.01408187  0.41585973]]\n"
     ]
    }
   ],
   "source": [
    "from scipy.linalg import null_space\n",
    "\n",
    "# Compute the null space of the matrix\n",
    "kernel = null_space(matrix)\n",
    "\n",
    "# Display the null space basis vectors\n",
    "print(\"Kernel (null space) basis vectors:\")\n",
    "print(kernel)"
   ]
  },
  {
   "cell_type": "markdown",
   "metadata": {},
   "source": [
    "(c). "
   ]
  },
  {
   "cell_type": "code",
   "execution_count": 26,
   "metadata": {},
   "outputs": [
    {
     "name": "stdout",
     "output_type": "stream",
     "text": [
      "N_known (matrix for known rates):\n",
      "[[ 1.  0.  0.  0.  0.  0.]\n",
      " [ 0.  1.  0.  0.  0.  0.]\n",
      " [ 0.  0.  0.  0.  0.  0.]\n",
      " [ 0.  0.  0.  0.  0.  0.]\n",
      " [ 0.  0.  0.  0.  0.  0.]\n",
      " [ 0.  0.  0.  0.  0.  0.]\n",
      " [ 0.  0.  1.  0.  0.  0.]\n",
      " [ 0.  0.  0.  0. -1.  0.]\n",
      " [ 0.  0.  0.  0.  0. -1.]\n",
      " [ 0.  0.  0.  1.  0.  0.]\n",
      " [ 0.  0.  0.  0.  0.  0.]]\n",
      "\n",
      "N_unknown (matrix for unknown rates):\n",
      "[[ 0. -1.  0.  0.  0.  0.  1. -1.  0.  0.  0.]\n",
      " [ 0.  0. -1.  0.  0.  1. -1.  0.  0.  0. -1.]\n",
      " [ 0.  0.  0.  0.  1. -1.  0.  0.  0.  0.  0.]\n",
      " [ 0.  0.  0.  1. -1.  0.  0.  0.  0.  0.  0.]\n",
      " [ 0.  0.  1. -1.  0.  0.  0.  0.  0.  0.  1.]\n",
      " [ 0.  1. -1.  0.  0.  0.  0.  0.  0.  0.  0.]\n",
      " [ 0.  0.  0.  0.  0.  0.  0. -1. -1.  0.  0.]\n",
      " [ 0.  0.  0.  0.  0.  0.  0.  1.  0.  0.  0.]\n",
      " [ 0.  0.  0.  0.  0.  0.  0.  1.  1.  0. -1.]\n",
      " [ 0.  0.  0.  0.  0.  0.  0.  0.  1. -1.  0.]\n",
      " [-1.  0.  0.  0.  0.  0.  0.  0. -1.  1.  1.]]\n"
     ]
    }
   ],
   "source": [
    "from sympy import symbols, Matrix\n",
    "\n",
    "# Split the matrix into known and unknown parts\n",
    "N_known = matrix[:, :6]  # First 7 columns for known rates\n",
    "N_unknown = matrix[:, 6:]  # Remaining columns for unknown rates\n",
    "\n",
    "print(\"N_known (matrix for known rates):\")\n",
    "print(N_known)\n",
    "\n",
    "print(\"\\nN_unknown (matrix for unknown rates):\")\n",
    "print(N_unknown)"
   ]
  },
  {
   "cell_type": "code",
   "execution_count": 27,
   "metadata": {},
   "outputs": [
    {
     "name": "stdout",
     "output_type": "stream",
     "text": [
      "Inverse of N_unknown:\n",
      "[[-0. -0. -0. -0. -0. -0. -1. -0. -1. -1. -1.]\n",
      " [-1. -1. -1. -1. -1.  0.  0. -1.  0.  0.  0.]\n",
      " [-1. -1. -1. -1. -1. -1.  0. -1.  0.  0.  0.]\n",
      " [-1. -1. -1. -1. -2. -1. -1. -1. -1.  0.  0.]\n",
      " [-1. -1. -1. -2. -2. -1. -1. -1. -1.  0.  0.]\n",
      " [-1. -1. -2. -2. -2. -1. -1. -1. -1. -0. -0.]\n",
      " [-0. -1. -1. -1. -1. -0. -0. -0. -0. -0. -0.]\n",
      " [ 0.  0.  0.  0.  0.  0.  0.  1.  0.  0.  0.]\n",
      " [ 0.  0.  0.  0.  0.  0. -1. -1.  0.  0.  0.]\n",
      " [-0. -0. -0. -0. -0. -0. -1. -1. -0. -1. -0.]\n",
      " [-0. -0. -0. -0. -0. -0. -1. -0. -1. -0. -0.]]\n"
     ]
    }
   ],
   "source": [
    "from numpy.linalg import inv\n",
    "\n",
    "# Compute the inverse of N_unknown\n",
    "N_unknown_inv = inv(N_unknown)\n",
    "\n",
    "# Display the inverse matrix\n",
    "print(\"Inverse of N_unknown:\")\n",
    "print(N_unknown_inv)"
   ]
  },
  {
   "cell_type": "code",
   "execution_count": null,
   "metadata": {},
   "outputs": [],
   "source": []
  }
 ],
 "metadata": {
  "kernelspec": {
   "display_name": "base",
   "language": "python",
   "name": "python3"
  },
  "language_info": {
   "codemirror_mode": {
    "name": "ipython",
    "version": 3
   },
   "file_extension": ".py",
   "mimetype": "text/x-python",
   "name": "python",
   "nbconvert_exporter": "python",
   "pygments_lexer": "ipython3",
   "version": "3.10.9"
  }
 },
 "nbformat": 4,
 "nbformat_minor": 2
}
