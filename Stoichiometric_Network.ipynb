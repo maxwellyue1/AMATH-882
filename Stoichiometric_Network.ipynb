{
 "cells": [
  {
   "cell_type": "code",
   "execution_count": 11,
   "metadata": {},
   "outputs": [],
   "source": [
    "import numpy as np\n",
    "import pandas as pd"
   ]
  },
  {
   "cell_type": "code",
   "execution_count": 12,
   "metadata": {},
   "outputs": [
    {
     "name": "stdout",
     "output_type": "stream",
     "text": [
      "[[ 1.  0.  0.  0.  0.  0.  0. -1.  0.  0.  0.  0.  1. -1.  0.  0.  0.]\n",
      " [ 0.  1.  0.  0.  0.  0.  0.  0. -1.  0.  0.  1. -1.  0.  0.  0. -1.]\n",
      " [ 0.  0.  0.  0.  0.  0.  0.  0.  0.  0.  1. -1.  0.  0.  0.  0.  0.]\n",
      " [ 0.  0.  0.  0.  0.  0.  0.  0.  0.  1. -1.  0.  0.  0.  0.  0.  0.]\n",
      " [ 0.  0.  0.  0.  0.  0.  0.  0.  1. -1.  0.  0.  0.  0.  0.  0.  1.]\n",
      " [ 0.  0.  0.  0.  0.  0.  0.  1. -1.  0.  0.  0.  0.  0.  0.  0.  0.]\n",
      " [ 0.  0.  1.  0.  0.  0.  0.  0.  0.  0.  0.  0.  0. -1. -1.  0.  0.]\n",
      " [ 0.  0.  0.  0. -1.  0.  0.  0.  0.  0.  0.  0.  0.  1.  0.  0.  0.]\n",
      " [ 0.  0.  0.  0.  0. -1.  0.  0.  0.  0.  0.  0.  0.  1.  1.  0. -1.]\n",
      " [ 0.  0.  0.  1.  0.  0.  0.  0.  0.  0.  0.  0.  0.  0.  1. -1.  0.]\n",
      " [ 0.  0.  0.  0.  0.  0.  1.  0.  0.  0.  0.  0.  0.  0. -1.  1.  1.]]\n"
     ]
    }
   ],
   "source": [
    "matrix = np.zeros((11, 17))\n",
    "matrix[0, 0] = 1\n",
    "matrix[1, 1] = 1\n",
    "matrix[6, 2] = 1\n",
    "matrix[9, 3] = 1\n",
    "matrix[7, 4] = -1\n",
    "matrix[8, 5] = -1\n",
    "matrix[10, 6] = 1\n",
    "\n",
    "matrix[0, 7] = -1\n",
    "matrix[5, 7] = 1\n",
    "\n",
    "matrix[1, 8] = -1\n",
    "matrix[4, 8] = 1\n",
    "matrix[5, 8] = -1\n",
    "\n",
    "matrix[3, 9] = 1\n",
    "matrix[4, 9] = -1\n",
    "\n",
    "matrix[2, 10] = 1\n",
    "matrix[3, 10] = -1\n",
    "\n",
    "matrix[1, 11] = 1\n",
    "matrix[2, 11] = -1\n",
    "\n",
    "matrix[0, 12] = 1\n",
    "matrix[1, 12] = -1\n",
    "\n",
    "matrix[0, 13] = -1\n",
    "matrix[6, 13] = -1\n",
    "matrix[7, 13] = 1\n",
    "matrix[8, 13] = 1\n",
    "\n",
    "matrix[6, 14] = -1\n",
    "matrix[8, 14] = 1\n",
    "matrix[9, 14] = 1\n",
    "matrix[10, 14] = -1\n",
    "\n",
    "matrix[9, 15] = -1\n",
    "matrix[10, 15] = 1\n",
    "\n",
    "matrix[1, 16] = -1\n",
    "matrix[4, 16] = 1\n",
    "matrix[8, 16] = -1\n",
    "matrix[10, 16] = 1\n",
    "\n",
    "print(matrix)"
   ]
  },
  {
   "cell_type": "code",
   "execution_count": 13,
   "metadata": {},
   "outputs": [
    {
     "name": "stdout",
     "output_type": "stream",
     "text": [
      "There is no left nullspace.\n"
     ]
    }
   ],
   "source": [
    "from scipy.linalg import null_space\n",
    "\n",
    "# Compute the left null space of the stoichiometry matrix\n",
    "left_null_space = null_space(matrix.T)\n",
    "\n",
    "# Check if the left null space is non-empty\n",
    "if left_null_space.size == 0:\n",
    "    print(\"There is no left nullspace.\")\n",
    "else:\n",
    "    print(\"There is a left nullspace.\")\n",
    "    print(\"Left nullspace basis vectors:\")\n",
    "    print(left_null_space)"
   ]
  },
  {
   "cell_type": "markdown",
   "metadata": {},
   "source": [
    "(b). "
   ]
  },
  {
   "cell_type": "code",
   "execution_count": 17,
   "metadata": {},
   "outputs": [
    {
     "name": "stdout",
     "output_type": "stream",
     "text": [
      "[[ 1.  0.  0.  0.  0.  0.  0. -1.  0.  0.  0.  0.  1. -1.  0.  0.  0. -1.\n",
      "  -0. -0. -0. -0. -0. -0.  1. -0. -0. -0. -0. -1.  1. -0. -0. -0.]\n",
      " [ 0.  1.  0.  0.  0.  0.  0.  0. -1.  0.  0.  1. -1.  0.  0.  0. -1. -0.\n",
      "  -1. -0. -0. -0. -0. -0. -0.  1. -0. -0. -1.  1. -0. -0. -0.  1.]\n",
      " [ 0.  0.  0.  0.  0.  0.  0.  0.  0.  0.  1. -1.  0.  0.  0.  0.  0. -0.\n",
      "  -0. -0. -0. -0. -0. -0. -0. -0. -0. -1.  1. -0. -0. -0. -0. -0.]\n",
      " [ 0.  0.  0.  0.  0.  0.  0.  0.  0.  1. -1.  0.  0.  0.  0.  0.  0. -0.\n",
      "  -0. -0. -0. -0. -0. -0. -0. -0. -1.  1. -0. -0. -0. -0. -0. -0.]\n",
      " [ 0.  0.  0.  0.  0.  0.  0.  0.  1. -1.  0.  0.  0.  0.  0.  0.  1. -0.\n",
      "  -0. -0. -0. -0. -0. -0. -0. -1.  1. -0. -0. -0. -0. -0. -0. -1.]\n",
      " [ 0.  0.  0.  0.  0.  0.  0.  1. -1.  0.  0.  0.  0.  0.  0.  0.  0. -0.\n",
      "  -0. -0. -0. -0. -0. -0. -1.  1. -0. -0. -0. -0. -0. -0. -0. -0.]\n",
      " [ 0.  0.  1.  0.  0.  0.  0.  0.  0.  0.  0.  0.  0. -1. -1.  0.  0. -0.\n",
      "  -0. -1. -0. -0. -0. -0. -0. -0. -0. -0. -0. -0.  1.  1. -0. -0.]\n",
      " [ 0.  0.  0.  0. -1.  0.  0.  0.  0.  0.  0.  0.  0.  1.  0.  0.  0. -0.\n",
      "  -0. -0. -0.  1. -0. -0. -0. -0. -0. -0. -0. -0. -1. -0. -0. -0.]\n",
      " [ 0.  0.  0.  0.  0. -1.  0.  0.  0.  0.  0.  0.  0.  1.  1.  0. -1. -0.\n",
      "  -0. -0. -0. -0.  1. -0. -0. -0. -0. -0. -0. -0. -1. -1. -0.  1.]\n",
      " [ 0.  0.  0.  1.  0.  0.  0.  0.  0.  0.  0.  0.  0.  0.  1. -1.  0. -0.\n",
      "  -0. -0. -1. -0. -0. -0. -0. -0. -0. -0. -0. -0. -0. -1.  1. -0.]\n",
      " [ 0.  0.  0.  0.  0.  0.  1.  0.  0.  0.  0.  0.  0.  0. -1.  1.  1. -0.\n",
      "  -0. -0. -0. -0. -0. -1. -0. -0. -0. -0. -0. -0. -0.  1. -1. -1.]]\n",
      "(11, 34)\n"
     ]
    }
   ],
   "source": [
    "# Concatenate the matrix with its negative\n",
    "reversible_matrix = np.concatenate((matrix, -matrix), axis=1)\n",
    "\n",
    "print(reversible_matrix)\n",
    "print(reversible_matrix.shape)  # Should be (11, 34)"
   ]
  },
  {
   "cell_type": "code",
   "execution_count": 19,
   "metadata": {},
   "outputs": [
    {
     "data": {
      "text/plain": [
       "array([], shape=(11, 0), dtype=float64)"
      ]
     },
     "execution_count": 19,
     "metadata": {},
     "output_type": "execute_result"
    }
   ],
   "source": [
    "left_null_space_b = null_space(reversible_matrix.T)\n",
    "left_null_space_b"
   ]
  },
  {
   "cell_type": "markdown",
   "metadata": {},
   "source": [
    "(c). "
   ]
  },
  {
   "cell_type": "code",
   "execution_count": 20,
   "metadata": {},
   "outputs": [
    {
     "name": "stdout",
     "output_type": "stream",
     "text": [
      "N_known (matrix for known rates):\n",
      "[[ 1.  0.  0.  0.  0.  0.  0.]\n",
      " [ 0.  1.  0.  0.  0.  0.  0.]\n",
      " [ 0.  0.  0.  0.  0.  0.  0.]\n",
      " [ 0.  0.  0.  0.  0.  0.  0.]\n",
      " [ 0.  0.  0.  0.  0.  0.  0.]\n",
      " [ 0.  0.  0.  0.  0.  0.  0.]\n",
      " [ 0.  0.  1.  0.  0.  0.  0.]\n",
      " [ 0.  0.  0.  0. -1.  0.  0.]\n",
      " [ 0.  0.  0.  0.  0. -1.  0.]\n",
      " [ 0.  0.  0.  1.  0.  0.  0.]\n",
      " [ 0.  0.  0.  0.  0.  0.  1.]]\n",
      "\n",
      "N_unknown (matrix for unknown rates):\n",
      "[[-1.  0.  0.  0.  0.  1. -1.  0.  0.  0.]\n",
      " [ 0. -1.  0.  0.  1. -1.  0.  0.  0. -1.]\n",
      " [ 0.  0.  0.  1. -1.  0.  0.  0.  0.  0.]\n",
      " [ 0.  0.  1. -1.  0.  0.  0.  0.  0.  0.]\n",
      " [ 0.  1. -1.  0.  0.  0.  0.  0.  0.  1.]\n",
      " [ 1. -1.  0.  0.  0.  0.  0.  0.  0.  0.]\n",
      " [ 0.  0.  0.  0.  0.  0. -1. -1.  0.  0.]\n",
      " [ 0.  0.  0.  0.  0.  0.  1.  0.  0.  0.]\n",
      " [ 0.  0.  0.  0.  0.  0.  1.  1.  0. -1.]\n",
      " [ 0.  0.  0.  0.  0.  0.  0.  1. -1.  0.]\n",
      " [ 0.  0.  0.  0.  0.  0.  0. -1.  1.  1.]]\n"
     ]
    }
   ],
   "source": [
    "from sympy import symbols, Matrix\n",
    "\n",
    "# Split the matrix into known and unknown parts\n",
    "N_known = matrix[:, :7]  # First 7 columns for known rates\n",
    "N_unknown = matrix[:, 7:]  # Remaining columns for unknown rates\n",
    "\n",
    "print(\"N_known (matrix for known rates):\")\n",
    "print(N_known)\n",
    "\n",
    "print(\"\\nN_unknown (matrix for unknown rates):\")\n",
    "print(N_unknown)"
   ]
  },
  {
   "cell_type": "code",
   "execution_count": 23,
   "metadata": {},
   "outputs": [
    {
     "name": "stdout",
     "output_type": "stream",
     "text": [
      "Null space basis vectors (candidate flux modes):\n",
      "Matrix([[1], [0], [0], [0], [1], [1], [1], [0], [0], [0]])\n",
      "Matrix([[-1], [1], [0], [0], [0], [0], [0], [1], [0], [0]])\n",
      "Matrix([[1], [0], [1], [0], [0], [0], [0], [0], [1], [0]])\n",
      "Matrix([[-1], [0], [-1], [1], [-1], [-1], [0], [0], [0], [1]])\n"
     ]
    }
   ],
   "source": [
    "import numpy as np\n",
    "from sympy import Matrix\n",
    "\n",
    "# Define the stoichiometry matrix N\n",
    "N = Matrix([\n",
    "    [1, 0, 0, 0, -1, 0, 0, 1, -1, 0],\n",
    "    [0, 1, 0, 0, 0, -1, 1, -1, 0, -1],\n",
    "    [0, 0, -1, 0, 0, 0, 0, 0, 1, -1],\n",
    "    [0, 0, 0, -1, 0, 0, 0, 0, 0, 1],\n",
    "    [0, 0, 0, 0, 1, -1, 0, 0, 0, 0],\n",
    "    [0, 0, 0, 0, 0, 1, -1, 0, 0, 1]\n",
    "])\n",
    "\n",
    "# Calculate the null space\n",
    "null_space = N.nullspace()\n",
    "\n",
    "# Display the null space basis vectors\n",
    "print(\"Null space basis vectors (candidate flux modes):\")\n",
    "for vec in null_space:\n",
    "    print(vec)"
   ]
  },
  {
   "cell_type": "code",
   "execution_count": null,
   "metadata": {},
   "outputs": [],
   "source": []
  }
 ],
 "metadata": {
  "kernelspec": {
   "display_name": "base",
   "language": "python",
   "name": "python3"
  },
  "language_info": {
   "codemirror_mode": {
    "name": "ipython",
    "version": 3
   },
   "file_extension": ".py",
   "mimetype": "text/x-python",
   "name": "python",
   "nbconvert_exporter": "python",
   "pygments_lexer": "ipython3",
   "version": "3.10.9"
  }
 },
 "nbformat": 4,
 "nbformat_minor": 2
}
